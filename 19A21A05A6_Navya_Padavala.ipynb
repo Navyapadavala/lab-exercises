{
  "nbformat": 4,
  "nbformat_minor": 0,
  "metadata": {
    "colab": {
      "name": "19A21A05A6-Navya Padavala.ipynb",
      "provenance": [],
      "collapsed_sections": [],
      "authorship_tag": "ABX9TyN58RB2qJW62sYybbiOsO3K",
      "include_colab_link": true
    },
    "kernelspec": {
      "name": "python3",
      "display_name": "Python 3"
    },
    "language_info": {
      "name": "python"
    }
  },
  "cells": [
    {
      "cell_type": "markdown",
      "metadata": {
        "id": "view-in-github",
        "colab_type": "text"
      },
      "source": [
        "<a href=\"https://colab.research.google.com/github/Navyapadavala/lab-exercises/blob/main/19A21A05A6_Navya_Padavala.ipynb\" target=\"_parent\"><img src=\"https://colab.research.google.com/assets/colab-badge.svg\" alt=\"Open In Colab\"/></a>"
      ]
    },
    {
      "cell_type": "markdown",
      "metadata": {
        "id": "U2ZKqTc1DmrB"
      },
      "source": [
        "EXERCISE-1 BASICS\n",
        "\n",
        "a) Running instructions in interactive interpreter and a python script"
      ]
    },
    {
      "cell_type": "code",
      "metadata": {
        "id": "8v1gphD4rFQB",
        "colab": {
          "base_uri": "https://localhost:8080/"
        },
        "outputId": "2ea39654-aff9-4c65-8a3c-6f6557047a9f"
      },
      "source": [
        "print(\"Hello,Navya\")"
      ],
      "execution_count": null,
      "outputs": [
        {
          "output_type": "stream",
          "text": [
            "Hello,Navya\n"
          ],
          "name": "stdout"
        }
      ]
    },
    {
      "cell_type": "markdown",
      "metadata": {
        "id": "hQkxxa5XD-fj"
      },
      "source": [
        "b)Write a program to purposefully raise identation error and correct it"
      ]
    },
    {
      "cell_type": "code",
      "metadata": {
        "id": "QEnvYmsTrzPL",
        "colab": {
          "base_uri": "https://localhost:8080/",
          "height": 128
        },
        "outputId": "9949e94f-d525-4453-dd96-ce1df635409b"
      },
      "source": [
        "if True:\n",
        "print(\"True\")\n",
        "else:\n",
        "  print(\"false\")"
      ],
      "execution_count": null,
      "outputs": [
        {
          "output_type": "error",
          "ename": "IndentationError",
          "evalue": "ignored",
          "traceback": [
            "\u001b[0;36m  File \u001b[0;32m\"<ipython-input-2-ca40f8b40d0e>\"\u001b[0;36m, line \u001b[0;32m2\u001b[0m\n\u001b[0;31m    print(\"True\")\u001b[0m\n\u001b[0m        ^\u001b[0m\n\u001b[0;31mIndentationError\u001b[0m\u001b[0;31m:\u001b[0m expected an indented block\n"
          ]
        }
      ]
    },
    {
      "cell_type": "code",
      "metadata": {
        "id": "8vSy3IwDsjko",
        "colab": {
          "base_uri": "https://localhost:8080/"
        },
        "outputId": "f39c1170-d3b6-4f45-f952-804bd72101b9"
      },
      "source": [
        "if True:\n",
        " print(\"True\")\n",
        "else:\n",
        "  print(\"false\")"
      ],
      "execution_count": null,
      "outputs": [
        {
          "output_type": "stream",
          "text": [
            "True\n"
          ],
          "name": "stdout"
        }
      ]
    },
    {
      "cell_type": "markdown",
      "metadata": {
        "id": "FwUVwkDdEby3"
      },
      "source": [
        "EXERCISE-2 OPERATORS\n",
        "\n",
        "a)Write a program to compute distance between to points and taking input from the user"
      ]
    },
    {
      "cell_type": "code",
      "metadata": {
        "id": "kee1mLe8uLXm",
        "colab": {
          "base_uri": "https://localhost:8080/"
        },
        "outputId": "d9dc59b8-9403-4adb-94cf-967020104c80"
      },
      "source": [
        "import math\n",
        "x1=int(input(\"Enter x1 value:\"))\n",
        "x2=int(input(\"Enter x2 value:\"))\n",
        "y1=int(input(\"Enter y1 value:\"))\n",
        "y2=int(input(\"Enter y2 value:\"))\n",
        "d=math.sqrt((x2-x1)**2+((y2-y1)**2))\n",
        "print(\"Distance of two points:\",d)"
      ],
      "execution_count": null,
      "outputs": [
        {
          "output_type": "stream",
          "text": [
            "Enter x1 value:6\n",
            "Enter x2 value:4\n",
            "Enter y1 value:7\n",
            "Enter y2 value:2\n",
            "Distance of two points: 5.385164807134504\n"
          ],
          "name": "stdout"
        }
      ]
    },
    {
      "cell_type": "markdown",
      "metadata": {
        "id": "q5xorbcnE9PS"
      },
      "source": [
        "b)Write a program add.py that takes 2 numbers as command line arguments and print its sum"
      ]
    },
    {
      "cell_type": "code",
      "metadata": {
        "colab": {
          "base_uri": "https://localhost:8080/"
        },
        "id": "ATT57HyIE-cP",
        "outputId": "fbbd92cd-05ed-4e59-90ae-c87c9af9f791"
      },
      "source": [
        "!bash"
      ],
      "execution_count": null,
      "outputs": [
        {
          "output_type": "stream",
          "text": [
            "bash: cannot set terminal process group (61): Inappropriate ioctl for device\n",
            "bash: no job control in this shell\n",
            "\u001b[01;34m/content\u001b[00m# python add.py 10 20\n",
            "Sum of two numbers is: 30\n",
            "\u001b[01;34m/content\u001b[00m# \n",
            "\u001b[01;34m/content\u001b[00m# \n",
            "\u001b[01;34m/content\u001b[00m# \n",
            "\u001b[01;34m/content\u001b[00m# exit\n"
          ],
          "name": "stdout"
        }
      ]
    },
    {
      "cell_type": "markdown",
      "metadata": {
        "id": "OsEYJvNxGV2S"
      },
      "source": [
        "EXERCISE-3 CONTROL FLOW\n",
        "\n",
        "a)Write a program for checking whether the given number is an even number or not"
      ]
    },
    {
      "cell_type": "code",
      "metadata": {
        "id": "GEop_wbVw27D",
        "colab": {
          "base_uri": "https://localhost:8080/"
        },
        "outputId": "30cab452-62ed-4554-f7ff-56f205ee62ed"
      },
      "source": [
        "n=int(input(\"Enter a number\"))\n",
        "if n%2==0:\n",
        "  print(\"Given number is even\")\n",
        "else:\n",
        "  print(\"Given number is odd\")"
      ],
      "execution_count": null,
      "outputs": [
        {
          "output_type": "stream",
          "text": [
            "Enter a number12\n",
            "Given number is even\n"
          ],
          "name": "stdout"
        }
      ]
    },
    {
      "cell_type": "markdown",
      "metadata": {
        "id": "YPioGUQ3Go0F"
      },
      "source": [
        "b)Using a for loop, write a program that prints out the decimal equivalents of 1/2,1/3,1/4,....1/10"
      ]
    },
    {
      "cell_type": "code",
      "metadata": {
        "id": "mE_i10lcxyUP",
        "colab": {
          "base_uri": "https://localhost:8080/"
        },
        "outputId": "08917f31-7ec6-4245-d042-06503f774453"
      },
      "source": [
        "\n",
        "n=int(input(\"Enter a number:\"))\n",
        "for i in range(2,n):\n",
        "  d=1/i\n",
        "  print(\"1/\"+str(i)+\"=\",d)\n"
      ],
      "execution_count": null,
      "outputs": [
        {
          "output_type": "stream",
          "text": [
            "Enter a number:8\n",
            "1/2= 0.5\n",
            "1/3= 0.3333333333333333\n",
            "1/4= 0.25\n",
            "1/5= 0.2\n",
            "1/6= 0.16666666666666666\n",
            "1/7= 0.14285714285714285\n"
          ],
          "name": "stdout"
        }
      ]
    },
    {
      "cell_type": "markdown",
      "metadata": {
        "id": "CFXBtkjfG4n_"
      },
      "source": [
        "c)Write a program using a for loop that loops over a sequence.What is sequence"
      ]
    },
    {
      "cell_type": "code",
      "metadata": {
        "id": "PKHflhHSykcU",
        "colab": {
          "base_uri": "https://localhost:8080/"
        },
        "outputId": "62cb27a7-ef66-4449-8e1b-915bd0178732"
      },
      "source": [
        "arr=[7,\"abc\",-45,'C',11.2,True,5,10.6,'xyz']\n",
        "print(\"Given Array:\",arr)\n",
        "for x in arr:\n",
        "  print(x)\n"
      ],
      "execution_count": null,
      "outputs": [
        {
          "output_type": "stream",
          "text": [
            "Given Array: [7, 'abc', -45, 'C', 11.2, True, 5, 10.6, 'xyz']\n",
            "7\n",
            "abc\n",
            "-45\n",
            "C\n",
            "11.2\n",
            "True\n",
            "5\n",
            "10.6\n",
            "xyz\n"
          ],
          "name": "stdout"
        }
      ]
    },
    {
      "cell_type": "markdown",
      "metadata": {
        "id": "5KaMO2yKHFhz"
      },
      "source": [
        "d)Write a program using a while loop that asks the user for a number,and prints a countdown from that number to zero"
      ]
    },
    {
      "cell_type": "code",
      "metadata": {
        "id": "Q6GscrQ6zHuw",
        "colab": {
          "base_uri": "https://localhost:8080/"
        },
        "outputId": "d911e601-d89a-4899-f46b-014e6d844f13"
      },
      "source": [
        "n=int(input(\"ENter value of n:\"))\n",
        "while n>=0:\n",
        "  print(n)\n",
        "  n=n-1"
      ],
      "execution_count": null,
      "outputs": [
        {
          "output_type": "stream",
          "text": [
            "ENter value of n:10\n",
            "10\n",
            "9\n",
            "8\n",
            "7\n",
            "6\n",
            "5\n",
            "4\n",
            "3\n",
            "2\n",
            "1\n",
            "0\n"
          ],
          "name": "stdout"
        }
      ]
    },
    {
      "cell_type": "markdown",
      "metadata": {
        "id": "-NA1LMxIHUvN"
      },
      "source": [
        "EXERCISE-4 CONTROLLED FLOW CONTINUED\n",
        "\n",
        "a)Find the sum of all the primes below two million"
      ]
    },
    {
      "cell_type": "code",
      "metadata": {
        "id": "XzYDH_6hzoHX",
        "colab": {
          "base_uri": "https://localhost:8080/"
        },
        "outputId": "8a6e89fa-a7f2-4acf-ef6a-a055df3045e4"
      },
      "source": [
        "n=int(input(\"Enter an ending number:\"))\n",
        "st=\"\"\n",
        "sum=0\n",
        "for i in range(2,n):\n",
        "  state=True\n",
        "  for j in range(2,i):\n",
        "    if(i%j)==0:\n",
        "      state=False\n",
        "      break;\n",
        "  if state==True:\n",
        "    st+=\" \"+str(i)\n",
        "    sum+=i\n",
        "print(\"Prime numbers:\")\n",
        "print(st)\n",
        "print(\"Sum of the prime numbes:\",sum)"
      ],
      "execution_count": null,
      "outputs": [
        {
          "output_type": "stream",
          "text": [
            "Enter an ending number:100\n",
            "Prime numbers:\n",
            " 2 3 5 7 11 13 17 19 23 29 31 37 41 43 47 53 59 61 67 71 73 79 83 89 97\n",
            "Sum of the prime numbes: 1060\n"
          ],
          "name": "stdout"
        }
      ]
    },
    {
      "cell_type": "markdown",
      "metadata": {
        "id": "Q4P-PHp3HrzG"
      },
      "source": [
        "b)Each new term in the fibonacci sequence is generated by adding the previous two terms.By starting with 1 and 2 ,the first 10 terms will be :1,2,3,5,8,13,21,34,55,89,..."
      ]
    },
    {
      "cell_type": "code",
      "metadata": {
        "id": "8Zlx0SDxmR7h",
        "colab": {
          "base_uri": "https://localhost:8080/"
        },
        "outputId": "1f656f23-1127-440d-fb39-1ad87dd4a057"
      },
      "source": [
        "n=int(input(\"Enter value of n:\"))\n",
        "a=0\n",
        "b=1\n",
        "c=a+b\n",
        "while c<n:\n",
        "  print(c,end=\" \")\n",
        "  a=b\n",
        "  b=c\n",
        "  c=a+b"
      ],
      "execution_count": null,
      "outputs": [
        {
          "output_type": "stream",
          "text": [
            "Enter value of n:100\n",
            "1 2 3 5 8 13 21 34 55 89 "
          ],
          "name": "stdout"
        }
      ]
    },
    {
      "cell_type": "markdown",
      "metadata": {
        "id": "no0z5nrFH8V6"
      },
      "source": [
        "c)By considering the terms in the fibonacci sequence whose values do not exceed four million, find the sum of the even-valued terms.\n",
        "\n",
        "\n"
      ]
    },
    {
      "cell_type": "code",
      "metadata": {
        "id": "x-DhhvoKm66A",
        "colab": {
          "base_uri": "https://localhost:8080/"
        },
        "outputId": "bba84406-30c1-4e12-8931-5289ec23c106"
      },
      "source": [
        "n=int(input(\"Enter value of n:\"))\n",
        "a=0\n",
        "b=1\n",
        "c=a+b\n",
        "sum=0\n",
        "print(\"Even numbers in Fibonacci series:\",end=\" \")\n",
        "while c<=n:\n",
        "  if c%2==0:\n",
        "    print(c,end=' ')\n",
        "    sum+=c\n",
        "  a=b\n",
        "  b=c\n",
        "  c=a+b\n",
        "print(\"\\nSum of Fibonacci series is:\",sum)"
      ],
      "execution_count": null,
      "outputs": [
        {
          "output_type": "stream",
          "text": [
            "Enter value of n:200000\n",
            "Even numbers in Fibonacci series: 2 8 34 144 610 2584 10946 46368 196418 \n",
            "Sum of Fibonacci series is: 257114\n"
          ],
          "name": "stdout"
        }
      ]
    },
    {
      "cell_type": "markdown",
      "metadata": {
        "id": "9xr2neXWINp4"
      },
      "source": [
        "EXERCISE-5 DS\n",
        "\n",
        "a)Write a program to count the numbers of characters in the string and store them in a dictionary data structure"
      ]
    },
    {
      "cell_type": "code",
      "metadata": {
        "id": "vyd_eZDqnnq2",
        "colab": {
          "base_uri": "https://localhost:8080/"
        },
        "outputId": "91f36e00-cc47-4ab2-b80a-f6dc8a7a138c"
      },
      "source": [
        "name=input(\"Enter a name:\")\n",
        "dic={}\n",
        "for ch in name:\n",
        "  keys=dic.keys()\n",
        "  if(ch in keys):\n",
        "    dic[ch]=dic[ch]+1\n",
        "  else:\n",
        "    dic[ch]=1\n",
        "print(\"Dictionary is :\",dic)"
      ],
      "execution_count": null,
      "outputs": [
        {
          "output_type": "stream",
          "text": [
            "Enter a name:navyapadavala\n",
            "Dictionary is : {'n': 1, 'a': 6, 'v': 2, 'y': 1, 'p': 1, 'd': 1, 'l': 1}\n"
          ],
          "name": "stdout"
        }
      ]
    },
    {
      "cell_type": "markdown",
      "metadata": {
        "id": "oXXHxMuSIlDl"
      },
      "source": [
        "b)Write a program to use split and join methods in the string and trace a birthday with a dictionary data structure"
      ]
    },
    {
      "cell_type": "code",
      "metadata": {
        "id": "vcBfzY97n99Q",
        "colab": {
          "base_uri": "https://localhost:8080/"
        },
        "outputId": "07ba0f9d-1a87-488c-e060-48a721f55873"
      },
      "source": [
        "dob={\"revathi\":\"07-august-1990\",\"Navya\":\"20-Sep-2001\",\"sabila\":\"26-nov-2002\"}\n",
        "name=input(\"Which person DOB you want:\")\n",
        "l=name.split()\n",
        "birth=\"\"\n",
        "for i in l:\n",
        "  if i in dob.keys():\n",
        "    pers=i\n",
        "print(\" \".join([pers,\"Birthday is\",dob[pers]]) )"
      ],
      "execution_count": null,
      "outputs": [
        {
          "output_type": "stream",
          "text": [
            "Which person DOB you want:Navya\n",
            "Navya Birthday is 20-Sep-2001\n"
          ],
          "name": "stdout"
        }
      ]
    },
    {
      "cell_type": "markdown",
      "metadata": {
        "id": "EVUuOcKJI0YT"
      },
      "source": [
        "EXERCISE-6 DS CONTINUED\n",
        "\n",
        "a)Write a program combine lists that combines these lists into a directory"
      ]
    },
    {
      "cell_type": "code",
      "metadata": {
        "colab": {
          "base_uri": "https://localhost:8080/"
        },
        "id": "HmULGjxHDvAQ",
        "outputId": "1ca2a80c-d324-4965-a590-b38d0a87f9ce"
      },
      "source": [
        "subj=[\"DAA\",\"OS\",\"DBMS\",\"P&S\",\"PPL\",\"SE\"]\n",
        "marks=[85,96,78,68,98,56]\n",
        "print(\"Given lists are:\")\n",
        "print(\"Subject Names:\",subj)\n",
        "print(\"Subject Marks:\",marks)\n",
        "dic=dict(zip(subj,marks))\n",
        "print(\"\\n Dictionary:\",dic)"
      ],
      "execution_count": null,
      "outputs": [
        {
          "output_type": "stream",
          "text": [
            "Given lists are:\n",
            "Subject Names: ['DAA', 'OS', 'DBMS', 'P&S', 'PPL', 'SE']\n",
            "Subject Marks: [85, 96, 78, 68, 98, 56]\n",
            "\n",
            " Dictionary: {'DAA': 85, 'OS': 96, 'DBMS': 78, 'P&S': 68, 'PPL': 98, 'SE': 56}\n"
          ],
          "name": "stdout"
        }
      ]
    },
    {
      "cell_type": "markdown",
      "metadata": {
        "id": "z0ts15wJJA0N"
      },
      "source": [
        "b) Write a program to count frequency of characters in a given file.Can you use character frequency to tell whether the given file is a Python program file,C program le or a text file?\n",
        "\n"
      ]
    },
    {
      "cell_type": "code",
      "metadata": {
        "id": "1HBPTmOwEp6x",
        "colab": {
          "base_uri": "https://localhost:8080/"
        },
        "outputId": "6705bafa-247b-41ac-a61b-28e1e3fc3980"
      },
      "source": [
        "filetypes=['.py','.c','.txt']\n",
        "fn=input(\"Enter the file name:\")\n",
        "f=open(fn,\"r\")\n",
        "count=dict()\n",
        "print(\"Given file is\",end=\"\")\n",
        "for ft in filetypes:\n",
        "  if(ft in fn):\n",
        "    if(ft=='.py'):\n",
        "      print(\"Python file\")\n",
        "    elif(ft=='.c'):\n",
        "      print(\"C File\")\n",
        "    elif(ft=='.txt'):\n",
        "       print(\"Text File\")\n",
        "for line in f:\n",
        "  for ch in line:\n",
        "    if ch in count:\n",
        "      count[ch]=count[ch]+1\n",
        "    else:\n",
        "      count[ch]=1\n",
        "print(count)\n",
        "f.close()"
      ],
      "execution_count": null,
      "outputs": [
        {
          "output_type": "stream",
          "text": [
            "Enter the file name:abc.txt\n",
            "Given file isText File\n",
            "{'T': 1, 'h': 1, 'i': 2, 's': 2, ' ': 3, 'N': 1, 'a': 6, 'v': 2, 'y': 1, 'P': 1, 'd': 1, 'l': 1}\n"
          ],
          "name": "stdout"
        }
      ]
    },
    {
      "cell_type": "markdown",
      "metadata": {
        "id": "eBUBN_3TJds-"
      },
      "source": [
        "EXERCISE-7 FILES\n",
        "\n",
        "a) Write a program to print each line of a FIle in reverse order\n",
        "\n"
      ]
    },
    {
      "cell_type": "code",
      "metadata": {
        "id": "ywGjbmTMFi6s",
        "colab": {
          "base_uri": "https://localhost:8080/"
        },
        "outputId": "42501153-e97f-4e12-a9a0-9a999530226f"
      },
      "source": [
        "obj=open(\"abc.txt\",\"r\")\n",
        "if obj:\n",
        "  st=obj.read()\n",
        "  print(\"File content is:\\n\",st)\n",
        "obj.close()\n",
        "print()\n",
        "lines=st.split('\\n')\n",
        "for ln in lines:\n",
        "  i=len(ln)-1\n",
        "  while(i>=0):\n",
        "    print(ln[i],end=\"\")\n",
        "    i=i-1\n",
        "  print()"
      ],
      "execution_count": null,
      "outputs": [
        {
          "output_type": "stream",
          "text": [
            "File content is:\n",
            " This is Navya Padavala\n",
            "\n",
            "alavadaP ayvaN si sihT\n"
          ],
          "name": "stdout"
        }
      ]
    },
    {
      "cell_type": "markdown",
      "metadata": {
        "id": "bZvL9EkGJ08U"
      },
      "source": [
        "b) Write a program to compute the number of characters,words and lines in a file"
      ]
    },
    {
      "cell_type": "code",
      "metadata": {
        "id": "V0iRj-SxGega",
        "colab": {
          "base_uri": "https://localhost:8080/"
        },
        "outputId": "d8ec6951-d8ad-4db9-adc5-94257089f978"
      },
      "source": [
        "nc=nw=nl=0\n",
        "file=open(\"abc.txt\",\"r\")\n",
        "nl=nw=nc=0\n",
        "print(\"File Content:\\n\")\n",
        "for line in file:\n",
        "  ln=line.strip(\"\\n\")\n",
        "  print(ln)\n",
        "  words=ln.split()\n",
        "  nl+=1\n",
        "  nw+=len(words)\n",
        "  nc+=len(line)\n",
        "file.close()\n",
        "print(\"\\n No.of lines:\",nl,\"words:\",nw,\"characters:\",nc)"
      ],
      "execution_count": null,
      "outputs": [
        {
          "output_type": "stream",
          "text": [
            "File Content:\n",
            "\n",
            "This is Navya Padavala\n",
            "\n",
            " No.of lines: 1 words: 4 characters: 22\n"
          ],
          "name": "stdout"
        }
      ]
    },
    {
      "cell_type": "markdown",
      "metadata": {
        "id": "l2EDGOqQKS18"
      },
      "source": [
        "EXERCISE-8 FUNCTIONS\n",
        "\n",
        "a) Write a function ball collide that takes two balls as parameters and computes if they are colliding.Your function should return a Boolean representing whether or not the balls are colliding\n",
        "\n",
        "Hint: Represent a ball on a plane as a tuple of (x,y,r),r being the radius.If (distance betweem two balls centers)<=(sum of their radii) then (they are colliding)."
      ]
    },
    {
      "cell_type": "code",
      "metadata": {
        "colab": {
          "base_uri": "https://localhost:8080/"
        },
        "id": "QQC2qqtSG0Tw",
        "outputId": "7eeba9bd-aef0-4d9d-f2d9-70b3ee752135"
      },
      "source": [
        "import math\n",
        "def collide(ball_tup1,ball_tup2):\n",
        "  x1,y1,r1=ball_tup1\n",
        "  x2,y2,r2=ball_tup2\n",
        "  print(\"Ball-01:\",ball_tup1)\n",
        "  print(\"Ball-02:\",ball_tup2)\n",
        "  d=math.sqrt((x2-x1)**2+(y2-y1)**2)\n",
        "  print(\"Centroid Distance of two balls:\",d)\n",
        "  print(\"Sum of Radius Ball-01 & Ball-02 is:{}+{}={}\".format(r1,r2,r1+r2))\n",
        "  if d<=r1+r2:\n",
        "    return True\n",
        "  else:\n",
        "    return False\n",
        "b1=(-1,1,3)\n",
        "b2=(0,5,4)\n",
        "if collide(b1,b2):\n",
        "  print(\"Balls are Collide...!\")\n",
        "else:\n",
        "  print(\"Balls are not Collide...!\")"
      ],
      "execution_count": null,
      "outputs": [
        {
          "output_type": "stream",
          "text": [
            "Ball-01: (-1, 1, 3)\n",
            "Ball-02: (0, 5, 4)\n",
            "Centroid Distance of two balls: 4.123105625617661\n",
            "Sum of Radius Ball-01 & Ball-02 is:3+4=7\n",
            "Balls are Collide...!\n"
          ],
          "name": "stdout"
        }
      ]
    },
    {
      "cell_type": "markdown",
      "metadata": {
        "id": "tOdyVRtfKkDq"
      },
      "source": [
        "b) Find mean,median,mode for the given set of numbers in a list"
      ]
    },
    {
      "cell_type": "code",
      "metadata": {
        "id": "ctBOoDzqLswk",
        "colab": {
          "base_uri": "https://localhost:8080/"
        },
        "outputId": "f192dbcc-7bd0-4f53-ba7b-1fbed6b3b88f"
      },
      "source": [
        "def list_mean(num_list):\n",
        "  return sum(num_list)/len(num_list)\n",
        "def list_median(num_list):\n",
        "  num_list.sort()\n",
        "  \n",
        "  n=len(num_list)\n",
        "  mid=n//2\n",
        "  if(n%2==1):\n",
        "    return num_list[mid]\n",
        "  else:\n",
        "    mid\n",
        "    return(num_list[mid-1]+num_list[mid])/2\n",
        "def list_mode(num_list):\n",
        "  num_list.sort()\n",
        "  temp=[]\n",
        "  i=0\n",
        "  while i<len(num_list):\n",
        "    temp.append(num_list.count(num_list[i]))\n",
        "    i+=1\n",
        "  dic=dict(zip(num_list,temp))\n",
        "  mode={k for(k,v) in dic.items()if v==max(temp)}\n",
        "  return mode\n",
        "lst=[1,7,2,2,6,3,3,5,4]\n",
        "print(\"Given list is:\",lst)\n",
        "print(\"Mean of the given list:\",list_mean(lst))\n",
        "print(\"Median of the givem list:\",list_median(lst))\n",
        "print(\"Mode of the given list:\",list_mode(lst))"
      ],
      "execution_count": null,
      "outputs": [
        {
          "output_type": "stream",
          "text": [
            "Given list is: [1, 7, 2, 2, 6, 3, 3, 5, 4]\n",
            "Mean of the given list: 3.6666666666666665\n",
            "Median of the givem list: 3\n",
            "Mode of the given list: {2, 3}\n"
          ],
          "name": "stdout"
        }
      ]
    },
    {
      "cell_type": "markdown",
      "metadata": {
        "id": "3f6knp1mMh7x"
      },
      "source": [
        "EXERCISE-9 FUNCTIONS CONTINUED\n",
        "\n",
        "a) Write a function nearly equal to test whether two strings are nearly equal.Two strings a and b are nearly equal when a can be generated by a single mutuation on b"
      ]
    },
    {
      "cell_type": "code",
      "metadata": {
        "colab": {
          "base_uri": "https://localhost:8080/"
        },
        "id": "YieHAAHKMJOU",
        "outputId": "ea4918a7-a6e7-45b0-e5bc-6422259efb64"
      },
      "source": [
        "def nearly_eq(str1,str2):\n",
        "  count=0\n",
        "  i=j=0\n",
        "  while(i<len(str1)and j<len(str2)):\n",
        "    if(str1[i]!=str2[j]):\n",
        "      count+=1\n",
        "      if(len(str1)>len(str2)):\n",
        "        i+=1\n",
        "      elif(len(str1)==len(str2)):\n",
        "        pass\n",
        "      else:\n",
        "        i-=1\n",
        "    if(count>1):\n",
        "      return False\n",
        "    i+=1\n",
        "    j+=1\n",
        "  if(count<2):\n",
        "    return True\n",
        "s1=input(\"Enter String1:\")\n",
        "s2=input(\"Enter String2:\")\n",
        "bln=nearly_eq(s1,s2)\n",
        "if(bln):\n",
        "  print(\"Strings are nearly equal\")\n",
        "else:\n",
        "  print(\"Strings are not equal\")"
      ],
      "execution_count": null,
      "outputs": [
        {
          "output_type": "stream",
          "text": [
            "Enter String1:Navya\n",
            "Enter String2:Padavala\n",
            "Strings are not equal\n"
          ],
          "name": "stdout"
        }
      ]
    },
    {
      "cell_type": "markdown",
      "metadata": {
        "id": "PrYYo0ZRM2IM"
      },
      "source": [
        "b)Write a function dup to find all duplicates in the list"
      ]
    },
    {
      "cell_type": "code",
      "metadata": {
        "colab": {
          "base_uri": "https://localhost:8080/"
        },
        "id": "LjgLMxlIM05S",
        "outputId": "7158ab06-bba3-4edd-8049-e02446f1b495"
      },
      "source": [
        "def dups(numlist):\n",
        "  temp=[]\n",
        "  for i in numlist:\n",
        "    cnt=numlist.count(i)\n",
        "    if(cnt>1 and (i not in temp)):\n",
        "      temp.append(i)\n",
        "  print(\"Duplicates in the list:\",temp)\n",
        "lst=[1,2,3,9,8,3,5,2,5]\n",
        "print(\"Given elements in the list:\",lst)\n",
        "dups(lst)\n"
      ],
      "execution_count": null,
      "outputs": [
        {
          "output_type": "stream",
          "text": [
            "Given elements in the list: [1, 2, 3, 9, 8, 3, 5, 2, 5]\n",
            "Duplicates in the list: [2, 3, 5]\n"
          ],
          "name": "stdout"
        }
      ]
    },
    {
      "cell_type": "markdown",
      "metadata": {
        "id": "7WyMRoerNC7i"
      },
      "source": [
        "c)Write a function unique to find all unique elements of the list"
      ]
    },
    {
      "cell_type": "code",
      "metadata": {
        "colab": {
          "base_uri": "https://localhost:8080/"
        },
        "id": "QV9NVZlDNX3Y",
        "outputId": "79cf5f9c-db39-4312-b348-8a2eb6648598"
      },
      "source": [
        "def unique(numlist):\n",
        "  temp=[]\n",
        "  for i in numlist:\n",
        "    cnt=numlist.count(i)\n",
        "    if cnt==1:\n",
        "      temp.append(i)\n",
        "  print(\"Unique ELements in the list:\",temp)\n",
        "lst=[1,2,3,9,8,3,5,2,5]\n",
        "print(\"Given elements in the list:\",lst)\n",
        "unique(lst)"
      ],
      "execution_count": null,
      "outputs": [
        {
          "output_type": "stream",
          "text": [
            "Given elements in the list: [1, 2, 3, 9, 8, 3, 5, 2, 5]\n",
            "Unique ELements in the list: [1, 9, 8]\n"
          ],
          "name": "stdout"
        }
      ]
    },
    {
      "cell_type": "markdown",
      "metadata": {
        "id": "0VX7S0g2NO6v"
      },
      "source": [
        "EXERCISE-10 FUNCTIONS PROBLEM SOLVING\n",
        "\n",
        "a) Write a function cumulative product to compute cumulative product of a list of numbers"
      ]
    },
    {
      "cell_type": "code",
      "metadata": {
        "colab": {
          "base_uri": "https://localhost:8080/"
        },
        "id": "2w1qsU0tOBBb",
        "outputId": "83a5f6a5-5ded-403d-dff7-fe4b1257a4fd"
      },
      "source": [
        "def cum_prod(numlist):\n",
        "  prod=1\n",
        "  temp=[]\n",
        "  for i in numlist:\n",
        "    prod*=i\n",
        "    temp.append(prod)\n",
        "  return temp\n",
        "lst=[1,2,3,4,5]\n",
        "print(\"Given list is:\",lst)\n",
        "print(\"Cumulative Product list is:\",cum_prod(lst))"
      ],
      "execution_count": null,
      "outputs": [
        {
          "output_type": "stream",
          "text": [
            "Given list is: [1, 2, 3, 4, 5]\n",
            "Cumulative Product list is: [1, 2, 6, 24, 120]\n"
          ],
          "name": "stdout"
        }
      ]
    },
    {
      "cell_type": "markdown",
      "metadata": {
        "id": "QM2jU4xSNcHk"
      },
      "source": [
        "b) Write a function reverse to reverse a list Without using the reverse function"
      ]
    },
    {
      "cell_type": "code",
      "metadata": {
        "colab": {
          "base_uri": "https://localhost:8080/"
        },
        "id": "6Peil3DmOZgR",
        "outputId": "ffbf6385-0432-44f3-aa37-57da753048d3"
      },
      "source": [
        "def reverse_list(numlist):\n",
        "  i=0\n",
        "  j=len(numlist)-1\n",
        "  while(i<=j):\n",
        "    temp=numlist[i]\n",
        "    numlist[i]=numlist[j]\n",
        "    numlist[j]=temp\n",
        "    j-=1\n",
        "    i+=1\n",
        "  return numlist\n",
        "lst=[1,2,3,4]\n",
        "print(\"Given list is:\",lst)\n",
        "reverse_list(lst)\n",
        "print(\"Reverse of the given list is:\",lst)"
      ],
      "execution_count": null,
      "outputs": [
        {
          "output_type": "stream",
          "text": [
            "Given list is: [1, 2, 3, 4]\n",
            "Reverse of the given list is: [4, 3, 2, 1]\n"
          ],
          "name": "stdout"
        }
      ]
    },
    {
      "cell_type": "markdown",
      "metadata": {
        "id": "6lJp2WWONu6_"
      },
      "source": [
        "c) Write function to compute gcd, lcm of two numbers.Each function shouldn't exceed one line\n",
        "\n"
      ]
    },
    {
      "cell_type": "code",
      "metadata": {
        "colab": {
          "base_uri": "https://localhost:8080/"
        },
        "id": "vYFeUFobO8he",
        "outputId": "75fe2015-a4f4-4f4f-9b0c-1e848b5d23b0"
      },
      "source": [
        "gcd=lambda a,b:a if b==0 else gcd(a,a%b)\n",
        "lcm=lambda a,b:(a*b)/gcd(a,b)\n",
        "x=6\n",
        "y=24\n",
        "print(\"The Given numbers:\",x,y)\n",
        "print(\"GCD is :\",gcd(x,y))\n",
        "print(\"LCM is :\",lcm(x,y))"
      ],
      "execution_count": null,
      "outputs": [
        {
          "output_type": "stream",
          "text": [
            "The Given numbers: 6 24\n",
            "GCD is : 6\n",
            "LCM is : 24.0\n"
          ],
          "name": "stdout"
        }
      ]
    },
    {
      "cell_type": "markdown",
      "metadata": {
        "id": "KcHOw8vcbzgo"
      },
      "source": [
        "EXERCISE-11 MULTI-D LISTS\n",
        "\n",
        "a)Write a program that defines a matrix and prints"
      ]
    },
    {
      "cell_type": "code",
      "metadata": {
        "colab": {
          "base_uri": "https://localhost:8080/"
        },
        "id": "rSxsV15qcIcD",
        "outputId": "0f9cc698-a9d2-4240-ee20-16eabca898f7"
      },
      "source": [
        "matA=[[]]\n",
        "rows=int(input(\"Enter row size of a matrix:\"))\n",
        "cols=int(input(\"Enter column size of a matrix:\"))\n",
        "\n",
        "matA=[[int(input(\"Enter[%d,%d]value:\"%(i,j)))for j in range(cols)]for i in range(rows)]\n",
        "\n",
        "print(\"Matrix is:\")\n",
        "for i in range (rows):\n",
        "  for j in range (cols):\n",
        "    print(matA[i][j],end='\\t')\n",
        "  print()"
      ],
      "execution_count": null,
      "outputs": [
        {
          "output_type": "stream",
          "text": [
            "Enter row size of a matrix:3\n",
            "Enter column size of a matrix:3\n",
            "Enter[0,0]value:3\n",
            "Enter[0,1]value:5\n",
            "Enter[0,2]value:2\n",
            "Enter[1,0]value:8\n",
            "Enter[1,1]value:9\n",
            "Enter[1,2]value:0\n",
            "Enter[2,0]value:1\n",
            "Enter[2,1]value:4\n",
            "Enter[2,2]value:2\n",
            "Matrix is:\n",
            "3\t5\t2\t\n",
            "8\t9\t0\t\n",
            "1\t4\t2\t\n"
          ],
          "name": "stdout"
        }
      ]
    },
    {
      "cell_type": "markdown",
      "metadata": {
        "id": "iLUL3afKcjZk"
      },
      "source": [
        "b)Write a program to perform addition of two square matrices"
      ]
    },
    {
      "cell_type": "code",
      "metadata": {
        "colab": {
          "base_uri": "https://localhost:8080/"
        },
        "id": "gbgu3VAsctvk",
        "outputId": "03e2a052-8783-4529-a7db-970e921a57af"
      },
      "source": [
        "def matRead(r,c):\n",
        "  return [[int(input(\"[%d,%d]value:\"%(i,j)))for j in range(c)]for i in range(r)]\n",
        "          \n",
        "def matDisp(mat,r,c):\n",
        "  for i in range(r):\n",
        "    for j in range(c):\n",
        "      print(mat[i][j],end='\\t')\n",
        "    print()\n",
        "\n",
        "matA=[[]]\n",
        "matB=[[]]\n",
        "matSum=[[]]\n",
        "rows=int(input(\"Enter row size of the matrix:\"))\n",
        "cols=int(input(\"Enter column size of the matrix:\"))\n",
        "\n",
        "if rows==cols:\n",
        "   print(\"Enter matrix-A elements:\")\n",
        "   matA=matRead(rows,cols)\n",
        "\n",
        "   print(\"Enter matrix-B elements:\")\n",
        "   matB=matRead(rows,cols)\n",
        "   \n",
        "   print(\"Matrix-A is:\")\n",
        "   matDisp(matA,rows,cols)\n",
        "\n",
        "   print(\"Matrix-B is:\")\n",
        "   matDisp(matB,rows,cols)\n",
        "\n",
        "   matSum=[[matA[i][j]+matB[i][j]for j in range(cols)]for i in range(rows)]\n",
        "   print(\"Sum of Matrices is:\")\n",
        "   matDisp(matSum,rows,cols)\n",
        "else:\n",
        "  print(\"Matrices Addition is Not Possible\") "
      ],
      "execution_count": null,
      "outputs": [
        {
          "output_type": "stream",
          "text": [
            "Enter row size of the matrix:2\n",
            "Enter column size of the matrix:2\n",
            "Enter matrix-A elements:\n",
            "[0,0]value:1\n",
            "[0,1]value:9\n",
            "[1,0]value:2\n",
            "[1,1]value:5\n",
            "Enter matrix-B elements:\n",
            "[0,0]value:8\n",
            "[0,1]value:2\n",
            "[1,0]value:0\n",
            "[1,1]value:7\n",
            "Matrix-A is:\n",
            "1\t9\t\n",
            "2\t5\t\n",
            "Matrix-B is:\n",
            "8\t2\t\n",
            "0\t7\t\n",
            "Sum of Matrices is:\n",
            "9\t11\t\n",
            "2\t12\t\n"
          ],
          "name": "stdout"
        }
      ]
    },
    {
      "cell_type": "markdown",
      "metadata": {
        "id": "DXL_Kwzodih1"
      },
      "source": [
        "c)Write a program to perform multiplication of two square matrices"
      ]
    },
    {
      "cell_type": "code",
      "metadata": {
        "colab": {
          "base_uri": "https://localhost:8080/"
        },
        "id": "-eWOIZEldz5v",
        "outputId": "feabf755-427e-4896-d5db-dbe6fe3278f6"
      },
      "source": [
        "def matRead(r,c):\n",
        "   return[[int(input(\"[%d,%d]value: \"%(i,j)))for j in range(c)] for i in range(r)]\n",
        "\n",
        "def matDisp(mat,r,c):\n",
        "    for i in range(r):\n",
        "        for j in range(c):\n",
        "            print(mat[i][j],end='\\t')\n",
        "        print()\n",
        "\n",
        "matA=[[]]\n",
        "matB=[[]]\n",
        "matMul=[[]]\n",
        "rows=int(input(\"Enter Row Size of the Matrix: \"))\n",
        "cols=int(input(\"Enter column size of the Matrix: \"))\n",
        "if rows==cols:\n",
        "    print(\"Enter Matrix-A: \")\n",
        "    matA=matRead(rows,cols)\n",
        "\n",
        "    print(\"Enter Matrix-B: \")\n",
        "    matB=matRead(rows,cols)\n",
        "\n",
        "    matMul=[[0 for j in range(cols)] for i in range(rows)]\n",
        "\n",
        "    for i in range(rows):\n",
        "        for j in range(cols):\n",
        "            for k in range(cols):\n",
        "                matMul[i][j]+=matA[i][k]*matB[k][j]\n",
        "                \n",
        "    print(\"Matrix-A is: \")\n",
        "    matDisp(matA,rows,cols)\n",
        "\n",
        "    print(\"Matrix-B is: \")\n",
        "    matDisp(matB,rows,cols)\n",
        "\n",
        "    print(\"Multiplication of Matrices is: \")\n",
        "    matDisp(matMul,rows,cols)\n",
        "else:\n",
        "    print(\"Matrices Multiplication is not possible\")"
      ],
      "execution_count": null,
      "outputs": [
        {
          "output_type": "stream",
          "text": [
            "Enter Row Size of the Matrix: 3\n",
            "Enter column size of the Matrix: 3\n",
            "Enter Matrix-A: \n",
            "[0,0]value: 3\n",
            "[0,1]value: 2\n",
            "[0,2]value: 5\n",
            "[1,0]value: 4\n",
            "[1,1]value: 6\n",
            "[1,2]value: 9\n",
            "[2,0]value: 0\n",
            "[2,1]value: 1\n",
            "[2,2]value: 2\n",
            "Enter Matrix-B: \n",
            "[0,0]value: 0\n",
            "[0,1]value: 4\n",
            "[0,2]value: 3\n",
            "[1,0]value: 6\n",
            "[1,1]value: 2\n",
            "[1,2]value: 7\n",
            "[2,0]value: 8\n",
            "[2,1]value: 1\n",
            "[2,2]value: 7\n",
            "Matrix-A is: \n",
            "3\t2\t5\t\n",
            "4\t6\t9\t\n",
            "0\t1\t2\t\n",
            "Matrix-B is: \n",
            "0\t4\t3\t\n",
            "6\t2\t7\t\n",
            "8\t1\t7\t\n",
            "Multiplication of Matrices is: \n",
            "52\t21\t58\t\n",
            "108\t37\t117\t\n",
            "22\t4\t21\t\n"
          ],
          "name": "stdout"
        }
      ]
    },
    {
      "cell_type": "markdown",
      "metadata": {
        "id": "8iH0Jd5HJIgk"
      },
      "source": [
        "EXERCISE-12  MODULES\n",
        "\n",
        "a)Install packages reaquests,flask and explore them using(pip)"
      ]
    },
    {
      "cell_type": "code",
      "metadata": {
        "colab": {
          "base_uri": "https://localhost:8080/"
        },
        "id": "0rQVgHgWJQ2g",
        "outputId": "7177f22d-b40a-4261-ba4a-36656ee5fbcf"
      },
      "source": [
        "!pip install requests"
      ],
      "execution_count": 1,
      "outputs": [
        {
          "output_type": "stream",
          "text": [
            "Requirement already satisfied: requests in /usr/local/lib/python3.7/dist-packages (2.23.0)\n",
            "Requirement already satisfied: certifi>=2017.4.17 in /usr/local/lib/python3.7/dist-packages (from requests) (2021.5.30)\n",
            "Requirement already satisfied: idna<3,>=2.5 in /usr/local/lib/python3.7/dist-packages (from requests) (2.10)\n",
            "Requirement already satisfied: chardet<4,>=3.0.2 in /usr/local/lib/python3.7/dist-packages (from requests) (3.0.4)\n",
            "Requirement already satisfied: urllib3!=1.25.0,!=1.25.1,<1.26,>=1.21.1 in /usr/local/lib/python3.7/dist-packages (from requests) (1.24.3)\n"
          ],
          "name": "stdout"
        }
      ]
    },
    {
      "cell_type": "code",
      "metadata": {
        "colab": {
          "base_uri": "https://localhost:8080/"
        },
        "id": "o3tLzmU0KAJF",
        "outputId": "6c669c56-6d71-4d51-d201-14ae463d2489"
      },
      "source": [
        "!pip show requests"
      ],
      "execution_count": 2,
      "outputs": [
        {
          "output_type": "stream",
          "text": [
            "Name: requests\n",
            "Version: 2.23.0\n",
            "Summary: Python HTTP for Humans.\n",
            "Home-page: https://requests.readthedocs.io\n",
            "Author: Kenneth Reitz\n",
            "Author-email: me@kennethreitz.org\n",
            "License: Apache 2.0\n",
            "Location: /usr/local/lib/python3.7/dist-packages\n",
            "Requires: urllib3, certifi, idna, chardet\n",
            "Required-by: tweepy, torchtext, tensorflow-datasets, tensorboard, Sphinx, spacy, requests-oauthlib, pymystem3, pooch, panel, pandas-datareader, kaggle, gspread, google-colab, google-api-core, gdown, folium, fix-yahoo-finance, fastai, coveralls, community, CacheControl\n"
          ],
          "name": "stdout"
        }
      ]
    },
    {
      "cell_type": "code",
      "metadata": {
        "colab": {
          "base_uri": "https://localhost:8080/"
        },
        "id": "ZKA-EjLTKPGT",
        "outputId": "e1dfcf4b-ded1-49bf-e75d-276b7e892f42"
      },
      "source": [
        "!pip install flask"
      ],
      "execution_count": 3,
      "outputs": [
        {
          "output_type": "stream",
          "text": [
            "Requirement already satisfied: flask in /usr/local/lib/python3.7/dist-packages (1.1.4)\n",
            "Requirement already satisfied: itsdangerous<2.0,>=0.24 in /usr/local/lib/python3.7/dist-packages (from flask) (1.1.0)\n",
            "Requirement already satisfied: click<8.0,>=5.1 in /usr/local/lib/python3.7/dist-packages (from flask) (7.1.2)\n",
            "Requirement already satisfied: Jinja2<3.0,>=2.10.1 in /usr/local/lib/python3.7/dist-packages (from flask) (2.11.3)\n",
            "Requirement already satisfied: Werkzeug<2.0,>=0.15 in /usr/local/lib/python3.7/dist-packages (from flask) (1.0.1)\n",
            "Requirement already satisfied: MarkupSafe>=0.23 in /usr/local/lib/python3.7/dist-packages (from Jinja2<3.0,>=2.10.1->flask) (2.0.1)\n"
          ],
          "name": "stdout"
        }
      ]
    },
    {
      "cell_type": "code",
      "metadata": {
        "colab": {
          "base_uri": "https://localhost:8080/"
        },
        "id": "1qtFDSMXKWu2",
        "outputId": "6f4a8603-73ec-4bba-8b8d-347e11d1d816"
      },
      "source": [
        "!pip show flask"
      ],
      "execution_count": 4,
      "outputs": [
        {
          "output_type": "stream",
          "text": [
            "Name: Flask\n",
            "Version: 1.1.4\n",
            "Summary: A simple framework for building complex web applications.\n",
            "Home-page: https://palletsprojects.com/p/flask/\n",
            "Author: Armin Ronacher\n",
            "Author-email: armin.ronacher@active-4.com\n",
            "License: BSD-3-Clause\n",
            "Location: /usr/local/lib/python3.7/dist-packages\n",
            "Requires: Jinja2, itsdangerous, click, Werkzeug\n",
            "Required-by: community\n"
          ],
          "name": "stdout"
        }
      ]
    },
    {
      "cell_type": "markdown",
      "metadata": {
        "id": "xBsjiYNcKox7"
      },
      "source": [
        "\n",
        "b) Write a script that imports requests and fetch content from the page.Eg:(Wiki)"
      ]
    },
    {
      "cell_type": "code",
      "metadata": {
        "colab": {
          "base_uri": "https://localhost:8080/"
        },
        "id": "3IkTErEOK1-7",
        "outputId": "c28b23fb-969f-40b9-8d1d-b91380822b8d"
      },
      "source": [
        "import requests\n",
        "r=requests.get('https://www.google.com')\n",
        "print(\"Status code:\",r.status_code)\n",
        "print(\"Header Content:\",r.headers['content-type'])\n",
        "print(r.text)"
      ],
      "execution_count": 6,
      "outputs": [
        {
          "output_type": "stream",
          "text": [
            "Status code: 200\n",
            "Header Content: text/html; charset=ISO-8859-1\n",
            "<!doctype html><html itemscope=\"\" itemtype=\"http://schema.org/WebPage\" lang=\"zh-TW\"><head><meta content=\"text/html; charset=UTF-8\" http-equiv=\"Content-Type\"><meta content=\"/images/branding/googleg/1x/googleg_standard_color_128dp.png\" itemprop=\"image\"><title>Google</title><script nonce=\"Q6enj92efz56rdTRW4ydCw==\">(function(){window.google={kEI:'Uo3VYK9KkpKvvA_U47HQAw',kEXPI:'0,18167,754048,1,530320,56873,954,5105,206,4804,2316,383,246,5,1354,5251,16231,10,1106274,1197712,571,43,302636,26305,51224,16114,17444,11240,17572,4859,1361,283,9008,3022,4751,12835,4998,13228,3847,4192,6430,14527,4517,2778,919,2370,2711,887,708,1277,2212,530,149,1103,840,1983,4314,108,4012,2023,1777,520,14670,3227,2845,7,4808,7546,5096,7539,338,4928,108,1456,1398,553,908,2,941,2614,2397,10745,3,576,6460,148,5990,7985,4,1527,2305,1236,10487,2014,4067,14308,2658,4242,2459,656,30,11009,4924,638,7080,7266,3269,665,2522,3293,2542,2047,2047,20,3118,6,614,294,3,3541,1,11942,2768,1814,283,389,2,1,3,517,5992,2465,358,3931,432,552,4788,2,1394,2806,1715,2,3057,483,1534,6146,1461,1341,1931,626,906,1454,925,91,2330,1275,1076,3096,406,2095,1602,172,3587,1418,452,95,2,1040,1160,1269,1798,348,1,1279,2,1499,2,211,291,1441,32,724,183,1397,1320,3675,670,202,3,75,50,1479,784,1658,685,685,57,13,1448,319,1741,265,62,787,823,1391,958,414,2,6,83,2,6,25,85,2,1657,441,170,341,1030,966,6,172,132,2232,13,1103,1136,2,288,140,5625322,189,5,32,63,155,2,58,5996291,520,46,2800650,882,444,1,2,80,1,1796,1,9,2,2551,1,748,141,795,563,1,4265,1,1,2,1331,3299,843,2609,155,17,13,72,139,4,2,20,2,169,13,19,46,5,39,96,548,29,2,2,1,2,1,2,2,7,4,1,2,2,2,2,2,2,353,513,199,8,27,2,2,2,2,14,15,2,18,13,16,1,23955042,2866026,1144247,268,1835,26467,2,2374,3,120,3,6,338,3,1011,1329,74,898,7,419,455',kBL:'agTH'};google.sn='webhp';google.kHL='zh-TW';})();(function(){\n",
            "var f=this||self;var h,k=[];function l(a){for(var b;a&&(!a.getAttribute||!(b=a.getAttribute(\"eid\")));)a=a.parentNode;return b||h}function m(a){for(var b=null;a&&(!a.getAttribute||!(b=a.getAttribute(\"leid\")));)a=a.parentNode;return b}\n",
            "function n(a,b,c,d,g){var e=\"\";c||-1!==b.search(\"&ei=\")||(e=\"&ei=\"+l(d),-1===b.search(\"&lei=\")&&(d=m(d))&&(e+=\"&lei=\"+d));d=\"\";!c&&f._cshid&&-1===b.search(\"&cshid=\")&&\"slh\"!==a&&(d=\"&cshid=\"+f._cshid);c=c||\"/\"+(g||\"gen_204\")+\"?atyp=i&ct=\"+a+\"&cad=\"+b+e+\"&zx=\"+Date.now()+d;/^http:/i.test(c)&&\"https:\"===window.location.protocol&&(google.ml&&google.ml(Error(\"a\"),!1,{src:c,glmm:1}),c=\"\");return c};h=google.kEI;google.getEI=l;google.getLEI=m;google.ml=function(){return null};google.log=function(a,b,c,d,g){if(c=n(a,b,c,d,g)){a=new Image;var e=k.length;k[e]=a;a.onerror=a.onload=a.onabort=function(){delete k[e]};a.src=c}};google.logUrl=n;}).call(this);(function(){\n",
            "google.y={};google.sy=[];google.x=function(a,b){if(a)var c=a.id;else{do c=Math.random();while(google.y[c])}google.y[c]=[a,b];return!1};google.sx=function(a){google.sy.push(a)};google.lm=[];google.plm=function(a){google.lm.push.apply(google.lm,a)};google.lq=[];google.load=function(a,b,c){google.lq.push([[a],b,c])};google.loadAll=function(a,b){google.lq.push([a,b])};google.bx=!1;google.lx=function(){};}).call(this);google.f={};(function(){\n",
            "document.documentElement.addEventListener(\"submit\",function(b){var a;if(a=b.target){var c=a.getAttribute(\"data-submitfalse\");a=\"1\"==c||\"q\"==c&&!a.elements.q.value?!0:!1}else a=!1;a&&(b.preventDefault(),b.stopPropagation())},!0);document.documentElement.addEventListener(\"click\",function(b){var a;a:{for(a=b.target;a&&a!=document.documentElement;a=a.parentElement)if(\"A\"==a.tagName){a=\"1\"==a.getAttribute(\"data-nohref\");break a}a=!1}a&&b.preventDefault()},!0);}).call(this);</script><style>#gbar,#guser{font-size:13px;padding-top:1px !important;}#gbar{height:22px}#guser{padding-bottom:7px !important;text-align:right}.gbh,.gbd{border-top:1px solid #c9d7f1;font-size:1px}.gbh{height:0;position:absolute;top:24px;width:100%}@media all{.gb1{height:22px;margin-right:.5em;vertical-align:top}#gbar{float:left}}a.gb1,a.gb4{text-decoration:underline !important}a.gb1,a.gb4{color:#00c !important}.gbi .gb4{color:#dd8e27 !important}.gbf .gb4{color:#900 !important}\n",
            "</style><style>body,td,a,p,.h{font-family:arial,sans-serif}body{margin:0;overflow-y:scroll}#gog{padding:3px 8px 0}td{line-height:.8em}.gac_m td{line-height:17px}form{margin-bottom:20px}.h{color:#1558d6}em{color:#c5221f;font-style:normal;font-weight:normal}a em{text-decoration:underline}.lst{height:25px;width:496px}.gsfi,.lst{font:18px arial,sans-serif}.gsfs{font:17px arial,sans-serif}.ds{display:inline-box;display:inline-block;margin:3px 0 4px;margin-left:4px}input{font-family:inherit}body{background:#fff;color:#000}a{color:#4b11a8;text-decoration:none}a:hover,a:active{text-decoration:underline}.fl a{color:#1558d6}a:visited{color:#4b11a8}.sblc{padding-top:5px}.sblc a{display:block;margin:2px 0;margin-left:13px;font-size:11px}.lsbb{background:#f8f9fa;border:solid 1px;border-color:#dadce0 #70757a #70757a #dadce0;height:30px}.lsbb{display:block}#WqQANb a{display:inline-block;margin:0 12px}.lsb{background:url(/images/nav_logo229.png) 0 -261px repeat-x;border:none;color:#000;cursor:pointer;height:30px;margin:0;outline:0;font:15px arial,sans-serif;vertical-align:top}.lsb:active{background:#dadce0}.lst:focus{outline:none}</style><script nonce=\"Q6enj92efz56rdTRW4ydCw==\"></script></head><body bgcolor=\"#fff\"><script nonce=\"Q6enj92efz56rdTRW4ydCw==\">(function(){var src='/images/nav_logo229.png';var iesg=false;document.body.onload = function(){window.n && window.n();if (document.images){new Image().src=src;}\n",
            "if (!iesg){document.f&&document.f.q.focus();document.gbqf&&document.gbqf.q.focus();}\n",
            "}\n",
            "})();</script><div id=\"mngb\"><div id=gbar><nobr><b class=gb1>&#25628;&#23563;</b> <a class=gb1 href=\"https://www.google.com.tw/imghp?hl=zh-TW&tab=wi\">&#22294;&#29255;</a> <a class=gb1 href=\"https://maps.google.com.tw/maps?hl=zh-TW&tab=wl\">&#22320;&#22294;</a> <a class=gb1 href=\"https://play.google.com/?hl=zh-TW&tab=w8\">Play</a> <a class=gb1 href=\"https://www.youtube.com/?gl=TW&tab=w1\">YouTube</a> <a class=gb1 href=\"https://news.google.com/?tab=wn\">&#26032;&#32862;</a> <a class=gb1 href=\"https://mail.google.com/mail/?tab=wm\">Gmail</a> <a class=gb1 href=\"https://drive.google.com/?tab=wo\">&#38642;&#31471;&#30828;&#30879;</a> <a class=gb1 style=\"text-decoration:none\" href=\"https://www.google.com.tw/intl/zh-TW/about/products?tab=wh\"><u>&#26356;&#22810;</u> &raquo;</a></nobr></div><div id=guser width=100%><nobr><span id=gbn class=gbi></span><span id=gbf class=gbf></span><span id=gbe></span><a href=\"http://www.google.com.tw/history/optout?hl=zh-TW\" class=gb4>&#32178;&#38913;&#35352;&#37636;</a> | <a  href=\"/preferences?hl=zh-TW\" class=gb4>&#35373;&#23450;</a> | <a target=_top id=gb_70 href=\"https://accounts.google.com/ServiceLogin?hl=zh-TW&passive=true&continue=https://www.google.com/&ec=GAZAAQ\" class=gb4>&#30331;&#20837;</a></nobr></div><div class=gbh style=left:0></div><div class=gbh style=right:0></div></div><center><br clear=\"all\" id=\"lgpd\"><div id=\"lga\"><img alt=\"Google\" height=\"92\" src=\"/images/branding/googlelogo/1x/googlelogo_white_background_color_272x92dp.png\" style=\"padding:28px 0 14px\" width=\"272\" id=\"hplogo\"><br><br></div><form action=\"/search\" name=\"f\"><table cellpadding=\"0\" cellspacing=\"0\"><tr valign=\"top\"><td width=\"25%\">&nbsp;</td><td align=\"center\" nowrap=\"\"><input name=\"ie\" value=\"ISO-8859-1\" type=\"hidden\"><input value=\"zh-TW\" name=\"hl\" type=\"hidden\"><input name=\"source\" type=\"hidden\" value=\"hp\"><input name=\"biw\" type=\"hidden\"><input name=\"bih\" type=\"hidden\"><div class=\"ds\" style=\"height:32px;margin:4px 0\"><input class=\"lst\" style=\"margin:0;padding:5px 8px 0 6px;vertical-align:top;color:#000\" autocomplete=\"off\" value=\"\" title=\"Google &#25628;&#23563;\" maxlength=\"2048\" name=\"q\" size=\"57\"></div><br style=\"line-height:0\"><span class=\"ds\"><span class=\"lsbb\"><input class=\"lsb\" value=\"Google &#25628;&#23563;\" name=\"btnG\" type=\"submit\"></span></span><span class=\"ds\"><span class=\"lsbb\"><input class=\"lsb\" id=\"tsuid1\" value=\"&#22909;&#25163;&#27683;\" name=\"btnI\" type=\"submit\"><script nonce=\"Q6enj92efz56rdTRW4ydCw==\">(function(){var id='tsuid1';document.getElementById(id).onclick = function(){if (this.form.q.value){this.checked = 1;if (this.form.iflsig)this.form.iflsig.disabled = false;}\n",
            "else top.location='/doodles/';};})();</script><input value=\"AINFCbYAAAAAYNWbYsVv7jWc1YgbQyvOzzYD7H-hi-uW\" name=\"iflsig\" type=\"hidden\"></span></span></td><td class=\"fl sblc\" align=\"left\" nowrap=\"\" width=\"25%\"><a href=\"/advanced_search?hl=zh-TW&amp;authuser=0\">&#36914;&#38542;&#25628;&#23563;</a></td></tr></table><input id=\"gbv\" name=\"gbv\" type=\"hidden\" value=\"1\"><script nonce=\"Q6enj92efz56rdTRW4ydCw==\">(function(){\n",
            "var a,b=\"1\";if(document&&document.getElementById)if(\"undefined\"!=typeof XMLHttpRequest)b=\"2\";else if(\"undefined\"!=typeof ActiveXObject){var c,d,e=[\"MSXML2.XMLHTTP.6.0\",\"MSXML2.XMLHTTP.3.0\",\"MSXML2.XMLHTTP\",\"Microsoft.XMLHTTP\"];for(c=0;d=e[c++];)try{new ActiveXObject(d),b=\"2\"}catch(h){}}a=b;if(\"2\"==a&&-1==location.search.indexOf(\"&gbv=2\")){var f=google.gbvu,g=document.getElementById(\"gbv\");g&&(g.value=a);f&&window.setTimeout(function(){location.href=f},0)};}).call(this);</script></form><div id=\"gac_scont\"></div><div style=\"font-size:83%;min-height:3.5em\"><br></div><span id=\"footer\"><div style=\"font-size:10pt\"><div style=\"margin:19px auto;text-align:center\" id=\"WqQANb\"><a href=\"/intl/zh-TW/ads/\">&#24291;&#21578;&#26381;&#21209;</a><a href=\"http://www.google.com.tw/intl/zh-TW/services/\">&#21830;&#26989;&#35299;&#27770;&#26041;&#26696;</a><a href=\"/intl/zh-TW/about.html\">&#38364;&#26044; Google</a><a href=\"https://www.google.com/setprefdomain?prefdom=TW&amp;prev=https://www.google.com.tw/&amp;sig=K_reXbSM_juvSsw6YFujs3XsV7HV0%3D\">Google.com.tw</a></div></div><p style=\"font-size:8pt;color:#70757a\">&copy; 2021 - <a href=\"/intl/zh-TW/policies/privacy/\">&#38577;&#31169;&#27402;</a> - <a href=\"/intl/zh-TW/policies/terms/\">&#26381;&#21209;&#26781;&#27454;</a></p></span></center><script nonce=\"Q6enj92efz56rdTRW4ydCw==\">(function(){window.google.cdo={height:0,width:0};(function(){\n",
            "var a=window.innerWidth,b=window.innerHeight;if(!a||!b){var c=window.document,d=\"CSS1Compat\"==c.compatMode?c.documentElement:c.body;a=d.clientWidth;b=d.clientHeight}a&&b&&(a!=google.cdo.width||b!=google.cdo.height)&&google.log(\"\",\"\",\"/client_204?&atyp=i&biw=\"+a+\"&bih=\"+b+\"&ei=\"+google.kEI);}).call(this);})();</script> <script nonce=\"Q6enj92efz56rdTRW4ydCw==\">(function(){google.xjs={ck:'',cs:'',excm:[],pml:false};})();</script>  <script nonce=\"Q6enj92efz56rdTRW4ydCw==\">(function(){var u='/xjs/_/js/k\\x3dxjs.hp.en.JRh4tN6N9QQ.O/m\\x3dsb_he,d/am\\x3dAHgCLA/d\\x3d1/ed\\x3d1/rs\\x3dACT90oGYDOHwsB3rPn3m-ZHj8pe2l1LEYg';\n",
            "var e=this||self,f=function(a){return a};var g;var l=function(a,b){this.g=b===h?a:\"\"};l.prototype.toString=function(){return this.g+\"\"};var h={};function m(){var a=u;google.lx=function(){n(a);google.lx=function(){}};google.bx||google.lx()}\n",
            "function n(a){google.timers&&google.timers.load&&google.tick&&google.tick(\"load\",\"xjsls\");var b=document;var c=\"SCRIPT\";\"application/xhtml+xml\"===b.contentType&&(c=c.toLowerCase());c=b.createElement(c);if(void 0===g){b=null;var k=e.trustedTypes;if(k&&k.createPolicy){try{b=k.createPolicy(\"goog#html\",{createHTML:f,createScript:f,createScriptURL:f})}catch(p){e.console&&e.console.error(p.message)}g=b}else g=b}a=(b=g)?b.createScriptURL(a):a;a=new l(a,h);c.src=a instanceof l&&a.constructor===l?a.g:\"type_error:TrustedResourceUrl\";var d;a=(c.ownerDocument&&c.ownerDocument.defaultView||window).document;(d=(a=null===(d=a.querySelector)||void 0===d?void 0:d.call(a,\"script[nonce]\"))?a.nonce||a.getAttribute(\"nonce\")||\"\":\"\")&&c.setAttribute(\"nonce\",d);document.body.appendChild(c);google.psa=!0};setTimeout(function(){m()},0);})();(function(){window.google.xjsu='/xjs/_/js/k\\x3dxjs.hp.en.JRh4tN6N9QQ.O/m\\x3dsb_he,d/am\\x3dAHgCLA/d\\x3d1/ed\\x3d1/rs\\x3dACT90oGYDOHwsB3rPn3m-ZHj8pe2l1LEYg';})();function _DumpException(e){throw e;}\n",
            "function _F_installCss(c){}\n",
            "(function(){google.jl={attn:false,blt:'none',dw:false,emtn:0,ine:false,lls:'default',pdt:0,snet:true,ubm:false,uwp:true};})();(function(){var pmc='{\\x22d\\x22:{},\\x22sb_he\\x22:{\\x22agen\\x22:true,\\x22cgen\\x22:true,\\x22client\\x22:\\x22heirloom-hp\\x22,\\x22dh\\x22:true,\\x22dhqt\\x22:true,\\x22ds\\x22:\\x22\\x22,\\x22ffql\\x22:\\x22zh-TW\\x22,\\x22fl\\x22:true,\\x22host\\x22:\\x22google.com\\x22,\\x22isbh\\x22:28,\\x22jsonp\\x22:true,\\x22msgs\\x22:{\\x22cibl\\x22:\\x22&#28165;&#38500;&#25628;&#23563;\\x22,\\x22dym\\x22:\\x22&#24744;&#26159;&#19981;&#26159;&#35201;&#26597;&#65306;\\x22,\\x22lcky\\x22:\\x22&#22909;&#25163;&#27683;\\x22,\\x22lml\\x22:\\x22&#30637;&#35299;&#35443;&#24773;\\x22,\\x22oskt\\x22:\\x22&#36664;&#20837;&#24037;&#20855;\\x22,\\x22psrc\\x22:\\x22&#24050;&#24478;&#24744;&#30340;&#12300;\\\\u003Ca href\\x3d\\\\\\x22/history\\\\\\x22\\\\u003E&#32178;&#38913;&#35352;&#37636;\\\\u003C/a\\\\u003E&#12301;&#20013;&#31227;&#38500;&#36889;&#31558;&#25628;&#23563;&#35352;&#37636;\\x22,\\x22psrl\\x22:\\x22&#31227;&#38500;\\x22,\\x22sbit\\x22:\\x22&#20197;&#22294;&#25628;&#23563;\\x22,\\x22srch\\x22:\\x22Google &#25628;&#23563;\\x22},\\x22nrft\\x22:false,\\x22ovr\\x22:{},\\x22pq\\x22:\\x22\\x22,\\x22refpd\\x22:true,\\x22refspre\\x22:true,\\x22rfs\\x22:[],\\x22sbas\\x22:\\x220 3px 8px 0 rgba(0,0,0,0.2),0 0 0 1px rgba(0,0,0,0.08)\\x22,\\x22sbpl\\x22:16,\\x22sbpr\\x22:16,\\x22scd\\x22:10,\\x22stok\\x22:\\x22_dR6ZmeodoN3Dq29_ufznIs_c-g\\x22,\\x22uhde\\x22:false}}';google.pmc=JSON.parse(pmc);})();</script>        </body></html>\n"
          ],
          "name": "stdout"
        }
      ]
    },
    {
      "cell_type": "markdown",
      "metadata": {
        "id": "RmErks4_M38W"
      },
      "source": [
        "c) Write a simple script that serves a simple HTTPResonse nd a simple HTML Page"
      ]
    },
    {
      "cell_type": "code",
      "metadata": {
        "colab": {
          "base_uri": "https://localhost:8080/"
        },
        "id": "9uE-VtZ-NMt7",
        "outputId": "6e154431-9bc0-4e61-ee82-4234ac628b22"
      },
      "source": [
        "from flask import Flask,render_template\n",
        "app=Flask(__name__)\n",
        "print(app)\n",
        "@app.route(\"/\")\n",
        "def main():\n",
        "  return render_template('login.html')\n",
        "if __name__==\"__main__\":\n",
        "  app.run(host=\"127.0.0.1\",port=2500)"
      ],
      "execution_count": 8,
      "outputs": [
        {
          "output_type": "stream",
          "text": [
            "<Flask '__main__'>\n",
            " * Serving Flask app \"__main__\" (lazy loading)\n",
            " * Environment: production\n",
            "\u001b[31m   WARNING: This is a development server. Do not use it in a production deployment.\u001b[0m\n",
            "\u001b[2m   Use a production WSGI server instead.\u001b[0m\n",
            " * Debug mode: off\n"
          ],
          "name": "stdout"
        },
        {
          "output_type": "stream",
          "text": [
            " * Running on http://127.0.0.1:2500/ (Press CTRL+C to quit)\n"
          ],
          "name": "stderr"
        }
      ]
    },
    {
      "cell_type": "markdown",
      "metadata": {
        "id": "7qCTi8eRNudZ"
      },
      "source": [
        "EXERCISE-13 OOP\n",
        "\n",
        "a)Class variables and instance variable and illustration of the self-variable\n",
        "\n",
        "i) ROBOT"
      ]
    },
    {
      "cell_type": "code",
      "metadata": {
        "colab": {
          "base_uri": "https://localhost:8080/"
        },
        "id": "mC5F5-L3N6j5",
        "outputId": "a8f641bf-eac9-4610-8a66-e6082c11b057"
      },
      "source": [
        "class Robot:\n",
        "  what=\"Machine\"\n",
        "  name=\"Chitti The ROBO\"\n",
        "  version=1.0\n",
        "  speed=\"1THZ\"\n",
        "  memory=\"1ZB\"\n",
        "  def update(upd):\n",
        "    upd.version=2.0\n",
        "    upd.speed=\"2THZ\"\n",
        "    upd.memory=\"2ZB\"\n",
        "  def disp(self):\n",
        "    print(\"Myself is a\",robj.what)\n",
        "    print(\"MyNmae is a\",robj.name)\n",
        "    print(\"Version\",robj.version)\n",
        "    print(\"Speed\",robj.speed)\n",
        "    print(\"Memory\",robj.memory)\n",
        "\n",
        "robj=Robot()\n",
        "robj.disp()\n",
        "\n",
        "print(\"--------Update--------\")\n",
        "robj.update()\n",
        "robj.disp()"
      ],
      "execution_count": 11,
      "outputs": [
        {
          "output_type": "stream",
          "text": [
            "Myself is a Machine\n",
            "MyNmae is a Chitti The ROBO\n",
            "Version 1.0\n",
            "Speed 1THZ\n",
            "Memory 1ZB\n",
            "--------Update--------\n",
            "Myself is a Machine\n",
            "MyNmae is a Chitti The ROBO\n",
            "Version 2.0\n",
            "Speed 2THZ\n",
            "Memory 2ZB\n"
          ],
          "name": "stdout"
        }
      ]
    },
    {
      "cell_type": "markdown",
      "metadata": {
        "id": "MpQCTcfRPyoM"
      },
      "source": [
        "ii) ATM MACHINE"
      ]
    },
    {
      "cell_type": "code",
      "metadata": {
        "colab": {
          "base_uri": "https://localhost:8080/"
        },
        "id": "KwhXrXJCQEQX",
        "outputId": "a40f9075-5a1f-4435-b295-a3040b66d9b8"
      },
      "source": [
        "class ATM:\n",
        "  def __init__(self):\n",
        "    self.balance=0\n",
        "  def enquire(self):\n",
        "    print(\"Balance:\",self.balance)\n",
        "  def deposit(self):\n",
        "    amount=int(input(\"Enter the Deposit Amount:\"))\n",
        "    self.balance+=amount\n",
        "    self.enquire()\n",
        "  def withdraw(self):\n",
        "    amount=int(input(\"Enter the Withdarw Amount:\"))\n",
        "    if self.balance<amount:\n",
        "      print(\"Insuffient Balnace....!\")\n",
        "    else:\n",
        "      self.balance-=amount\n",
        "      self.enquire()\n",
        "aobj=ATM()\n",
        "while(True):\n",
        "  print(\"****Menu****\")\n",
        "  print(\"1.Deposit\")\n",
        "  print(\"2.Withdarw\")\n",
        "  print(\"3.Balance\")\n",
        "  print(\"0.Exit\")\n",
        "  ch=int(input(\"Enter your choice:\"))\n",
        "  if ch==0:\n",
        "    break\n",
        "  elif ch==1:\n",
        "    aobj.deposit()\n",
        "  elif ch==2:\n",
        "    aobj.withdraw()\n",
        "  elif ch==3:\n",
        "    aobj.enquire()\n",
        "  else:\n",
        "    print(\"Invalid Choice\")\n",
        "    pass"
      ],
      "execution_count": 12,
      "outputs": [
        {
          "output_type": "stream",
          "text": [
            "****Menu****\n",
            "1.Deposit\n",
            "2.Withdarw\n",
            "3.Balance\n",
            "0.Exit\n",
            "Enter your choice:1\n",
            "Enter the Deposit Amount:100000\n",
            "Balance: 100000\n",
            "****Menu****\n",
            "1.Deposit\n",
            "2.Withdarw\n",
            "3.Balance\n",
            "0.Exit\n",
            "Enter your choice:2\n",
            "Enter the Withdarw Amount:1000\n",
            "Balance: 99000\n",
            "****Menu****\n",
            "1.Deposit\n",
            "2.Withdarw\n",
            "3.Balance\n",
            "0.Exit\n",
            "Enter your choice:2\n",
            "Enter the Withdarw Amount:99000\n",
            "Balance: 0\n",
            "****Menu****\n",
            "1.Deposit\n",
            "2.Withdarw\n",
            "3.Balance\n",
            "0.Exit\n",
            "Enter your choice:2\n",
            "Enter the Withdarw Amount:10\n",
            "Insuffient Balnace....!\n",
            "****Menu****\n",
            "1.Deposit\n",
            "2.Withdarw\n",
            "3.Balance\n",
            "0.Exit\n",
            "Enter your choice:0\n"
          ],
          "name": "stdout"
        }
      ]
    }
  ]
}